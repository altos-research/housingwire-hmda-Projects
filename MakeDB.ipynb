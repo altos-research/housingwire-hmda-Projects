{
 "cells": [
  {
   "cell_type": "markdown",
   "metadata": {},
   "source": [
    "# Ingesting Modified Loan Application Register Data"
   ]
  },
  {
   "cell_type": "code",
   "execution_count": 1,
   "metadata": {},
   "outputs": [],
   "source": [
    "import pandas as pd\n",
    "import sqlite3 as sql\n",
    "import os"
   ]
  },
  {
   "cell_type": "markdown",
   "metadata": {},
   "source": [
    "CFPB's schema for MLAR data:"
   ]
  },
  {
   "cell_type": "code",
   "execution_count": 2,
   "metadata": {},
   "outputs": [
    {
     "data": {
      "text/html": [
       "<div>\n",
       "<style scoped>\n",
       "    .dataframe tbody tr th:only-of-type {\n",
       "        vertical-align: middle;\n",
       "    }\n",
       "\n",
       "    .dataframe tbody tr th {\n",
       "        vertical-align: top;\n",
       "    }\n",
       "\n",
       "    .dataframe thead th {\n",
       "        text-align: right;\n",
       "    }\n",
       "</style>\n",
       "<table border=\"1\" class=\"dataframe\">\n",
       "  <thead>\n",
       "    <tr style=\"text-align: right;\">\n",
       "      <th></th>\n",
       "      <th>Data Field Name</th>\n",
       "      <th>Data Field Type</th>\n",
       "      <th>Field Type Description</th>\n",
       "      <th>Valid Values</th>\n",
       "      <th>Descriptions and Examples</th>\n",
       "      <th>Data Point Name</th>\n",
       "    </tr>\n",
       "    <tr>\n",
       "      <th></th>\n",
       "      <th></th>\n",
       "      <th></th>\n",
       "      <th></th>\n",
       "      <th></th>\n",
       "      <th></th>\n",
       "      <th></th>\n",
       "    </tr>\n",
       "  </thead>\n",
       "  <tbody>\n",
       "    <tr>\n",
       "      <th>1</th>\n",
       "      <td>Activity Year</td>\n",
       "      <td>Numeric</td>\n",
       "      <td>Integer</td>\n",
       "      <td>2017 2018 2019 2020 2021 2022 2023</td>\n",
       "      <td>NaN</td>\n",
       "      <td>NaN</td>\n",
       "    </tr>\n",
       "    <tr>\n",
       "      <th>2</th>\n",
       "      <td>Legal Entity Identifier (LEI)</td>\n",
       "      <td>Alphanumeric. Width is 20 characters</td>\n",
       "      <td>String</td>\n",
       "      <td>NaN</td>\n",
       "      <td>Example: 12121212121212121212</td>\n",
       "      <td>Legal Entity Identifier (LEI)</td>\n",
       "    </tr>\n",
       "    <tr>\n",
       "      <th>3</th>\n",
       "      <td>Loan Type</td>\n",
       "      <td>Numeric</td>\n",
       "      <td>Integer</td>\n",
       "      <td>1  2  3  4</td>\n",
       "      <td>Descriptions:  1. Conventional (not insured or...</td>\n",
       "      <td>Loan Type</td>\n",
       "    </tr>\n",
       "    <tr>\n",
       "      <th>4</th>\n",
       "      <td>Loan Purpose</td>\n",
       "      <td>Numeric</td>\n",
       "      <td>Integer</td>\n",
       "      <td>1  2  31  32  4  5</td>\n",
       "      <td>Descriptions:  1. Home purchase  2. Home impro...</td>\n",
       "      <td>Loan Purpose</td>\n",
       "    </tr>\n",
       "    <tr>\n",
       "      <th>5</th>\n",
       "      <td>Preapproval</td>\n",
       "      <td>Numeric</td>\n",
       "      <td>Integer</td>\n",
       "      <td>1  2</td>\n",
       "      <td>Descriptions:  1. Preapproval requested  2. Pr...</td>\n",
       "      <td>Preapproval</td>\n",
       "    </tr>\n",
       "  </tbody>\n",
       "</table>\n",
       "</div>"
      ],
      "text/plain": [
       "                 Data Field Name                       Data Field Type  \\\n",
       "                                                                         \n",
       "1                  Activity Year                               Numeric   \n",
       "2  Legal Entity Identifier (LEI)  Alphanumeric. Width is 20 characters   \n",
       "3                      Loan Type                               Numeric   \n",
       "4                   Loan Purpose                               Numeric   \n",
       "5                    Preapproval                               Numeric   \n",
       "\n",
       "  Field Type Description                        Valid Values  \\\n",
       "                                                               \n",
       "1                Integer  2017 2018 2019 2020 2021 2022 2023   \n",
       "2                 String                                 NaN   \n",
       "3                Integer                          1  2  3  4   \n",
       "4                Integer                  1  2  31  32  4  5   \n",
       "5                Integer                                1  2   \n",
       "\n",
       "                           Descriptions and Examples  \\\n",
       "                                                       \n",
       "1                                                NaN   \n",
       "2                      Example: 12121212121212121212   \n",
       "3  Descriptions:  1. Conventional (not insured or...   \n",
       "4  Descriptions:  1. Home purchase  2. Home impro...   \n",
       "5  Descriptions:  1. Preapproval requested  2. Pr...   \n",
       "\n",
       "                 Data Point Name  \n",
       "                                  \n",
       "1                            NaN  \n",
       "2  Legal Entity Identifier (LEI)  \n",
       "3                      Loan Type  \n",
       "4                   Loan Purpose  \n",
       "5                    Preapproval  "
      ]
     },
     "execution_count": 2,
     "metadata": {},
     "output_type": "execute_result"
    }
   ],
   "source": [
    "schema = pd.read_html('https://ffiec.cfpb.gov/documentation/publications/modified-lar/modified-lar-schema')[0]\n",
    "schema.set_index('Data Field Number', inplace=True)\n",
    "schema.index.name = ''\n",
    "schema.head()"
   ]
  },
  {
   "cell_type": "markdown",
   "metadata": {},
   "source": [
    "Use schema to create SQLite table:"
   ]
  },
  {
   "cell_type": "code",
   "execution_count": 3,
   "metadata": {},
   "outputs": [],
   "source": [
    "schema['row_type'] = ''\n",
    "schema.loc[schema['Data Field Type']=='Alphanumeric. Width is 20 characters', 'row_type'] = 'CHAR(20)'\n",
    "schema.loc[schema['Field Type Description'].isin(['Integer or Blank', 'Integer or NA', 'Integer or NA or Exempt']), 'row_type'] = 'INT'\n",
    "schema.loc[schema['Field Type Description']=='Integer', 'row_type'] = 'INT NOT NULL'\n",
    "schema.loc[schema['Field Type Description'].str.contains('Double'), 'row_type'] = 'FLOAT'\n",
    "schema.loc[(schema['Field Type Description']=='String')&(schema['Data Field Type']!='Alphanumeric. Width is 20 characters'), 'row_type'] = 'VARCHAR'"
   ]
  },
  {
   "cell_type": "code",
   "execution_count": 4,
   "metadata": {},
   "outputs": [],
   "source": [
    "schema_str = \"CREATE TABLE MLAR(\\n\"\n",
    "schema_str += ',\\n'.join(schema['Data Field Name'].apply(lambda x: f\"'{x}'\") + \" \" + schema['row_type']) + \");\""
   ]
  },
  {
   "cell_type": "code",
   "execution_count": 5,
   "metadata": {},
   "outputs": [],
   "source": [
    "connection = sql.connect('./cleaned/hmda.db')\n",
    "cursor = connection.cursor()\n",
    "cursor.execute(\"DROP TABLE IF EXISTS MLAR\")\n",
    "cursor.execute(schema_str)\n",
    "connection.close()"
   ]
  },
  {
   "cell_type": "markdown",
   "metadata": {},
   "source": [
    "Raw data downloaded from <a href=\"https://ffiec.cfpb.gov/data-publication/modified-lar/2023\">here</a>."
   ]
  },
  {
   "cell_type": "markdown",
   "metadata": {},
   "source": [
    "Read data and save to SQLite:"
   ]
  },
  {
   "cell_type": "code",
   "execution_count": 8,
   "metadata": {},
   "outputs": [
    {
     "name": "stdout",
     "output_type": "stream",
     "text": [
      "Reading 2022...\n",
      "Saving to SQLite...\n",
      "Reading 2023...\n",
      "Saving to SQLite...\n",
      "Done.\n"
     ]
    }
   ],
   "source": [
    "# for every file in raw directory\n",
    "for filename in os.listdir('./raw'):\n",
    "    filepath = f'./raw/{filename}' \n",
    "\n",
    "    # read data into Pandas DataFrame\n",
    "    print(f'Reading {filename[0:4]}...')\n",
    "    df = pd.read_csv(filepath, delimiter='|', na_values=['NA','Exempt'], header=None, names=schema['Data Field Name'],\n",
    "                    dtype={'State':'str', \n",
    "                            'Census Tract':'str',\n",
    "                            'Age of Applicant or Borrower':'str',\n",
    "                            'Age of Applicant >= 62':'str',\n",
    "                            'Age of Co-Applicant or Co-Borrower':'str',\n",
    "                            'Age of Co-Applicant >= 62':'str',\n",
    "                            'Debt-to-Income Ratio':'str',\n",
    "                            'Total Units':'str'\n",
    "                            }\n",
    "        )\n",
    "    \n",
    "    # save to SQLite database, delete Pandas DataFrame to remove from active memory\n",
    "    print(f'Saving to SQLite...')\n",
    "    with sql.connect('./cleaned/hmda.db') as connection:\n",
    "        df.head().to_sql(name='MLAR', con=connection, index=False, if_exists='append')\n",
    "        del df\n",
    "\n",
    "print('Done.')\n",
    "        \n"
   ]
  },
  {
   "cell_type": "code",
   "execution_count": null,
   "metadata": {},
   "outputs": [],
   "source": []
  }
 ],
 "metadata": {
  "kernelspec": {
   "display_name": "base",
   "language": "python",
   "name": "python3"
  },
  "language_info": {
   "codemirror_mode": {
    "name": "ipython",
    "version": 3
   },
   "file_extension": ".py",
   "mimetype": "text/x-python",
   "name": "python",
   "nbconvert_exporter": "python",
   "pygments_lexer": "ipython3",
   "version": "3.11.4"
  }
 },
 "nbformat": 4,
 "nbformat_minor": 2
}
